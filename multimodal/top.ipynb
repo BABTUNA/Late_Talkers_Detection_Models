{
 "cells": [
  {
   "cell_type": "markdown",
   "metadata": {},
   "source": [
    "### use script to find top results from grid search"
   ]
  },
  {
   "cell_type": "code",
   "execution_count": 1,
   "metadata": {},
   "outputs": [],
   "source": [
    "import pandas as pd\n",
    "import os\n",
    "\n",
    "def find_top_recall_csvs(folder_path):\n",
    "    # dictionary to hold file names and their corresponding recall macro avg\n",
    "    recall_scores = {}\n",
    "\n",
    "    # loop through each file in the directory\n",
    "    for file_name in os.listdir(folder_path):\n",
    "        if file_name.endswith('.csv'):  # Ensure the file is a CSV\n",
    "            file_path = os.path.join(folder_path, file_name)\n",
    "            try:\n",
    "            \n",
    "                df = pd.read_csv(file_path)\n",
    "                \n",
    "             \n",
    "                macro_avg_recall = df[df['data'] == 'macro avg']['recall'].values[0]\n",
    "                \n",
    "    \n",
    "                recall_scores[file_name] = macro_avg_recall\n",
    "            except Exception as e:\n",
    "                print(f\"Error processing {file_name}: {e}\")\n",
    "\n",
    "    # sort files by recall score in descending order and select the top 4\n",
    "    top_files = sorted(recall_scores, key=recall_scores.get, reverse=True)[:8]\n",
    "    \n",
    "    results = []\n",
    "    for file in top_files:\n",
    "        file_path = os.path.join(folder_path, file)\n",
    "        df = pd.read_csv(file_path)\n",
    "        results.append((file, df))\n",
    "\n",
    "    return results\n",
    "\n",
    "\n"
   ]
  },
  {
   "cell_type": "code",
   "execution_count": 43,
   "metadata": {},
   "outputs": [
    {
     "name": "stdout",
     "output_type": "stream",
     "text": [
      "File: results_2023_16_50_512_8_6e-05_0.99.csv\n",
      "           data  precision    recall  f1-score   support  specificity\n",
      "0           LLE   0.759429  0.838095  0.746302  14.80000     0.427632\n",
      "1            TD   0.646429  0.627632  0.430105   9.00000     0.427632\n",
      "2      accuracy   0.675450  0.675450  0.675450   0.67545     0.427632\n",
      "3     macro avg   0.702929  0.732863  0.588204  23.80000     0.427632\n",
      "4  weighted avg   0.850203  0.675450  0.684944  23.80000     0.427632\n"
     ]
    },
    {
     "data": {
      "image/png": "[encoded data removed]",
      "text/plain": [
       "<Figure size 640x480 with 1 Axes>"
      ]
     },
     "metadata": {},
     "output_type": "display_data"
    },
    {
     "name": "stdout",
     "output_type": "stream",
     "text": [
      "File: results_2023_16_50_512_8_5e-05_0.99.csv\n",
      "           data  precision    recall  f1-score    support  specificity\n",
      "0           LLE   0.759429  0.818571  0.731112  14.800000     0.427632\n",
      "1            TD   0.642017  0.627632  0.425362   9.000000     0.427632\n",
      "2      accuracy   0.658042  0.658042  0.658042   0.658042     0.427632\n",
      "3     macro avg   0.700723  0.723102  0.578237  23.800000     0.427632\n",
      "4  weighted avg   0.849223  0.658042  0.670581  23.800000     0.427632\n",
      "File: results_2023_8_50_512_8_5e-05_0.99.csv\n",
      "           data  precision    recall  f1-score    support  specificity\n",
      "0           LLE   0.761636  0.799048  0.722579  14.800000     0.440132\n",
      "1            TD   0.575000  0.640132  0.414286   9.000000     0.440132\n",
      "2      accuracy   0.653492  0.653492  0.653492   0.653492     0.440132\n",
      "3     macro avg   0.668318  0.719590  0.568433  23.800000     0.440132\n",
      "4  weighted avg   0.831425  0.653492  0.665274  23.800000     0.440132\n",
      "File: results_2023_8_50_1024_8_6e-05_0.99.csv\n",
      "           data  precision    recall  f1-score    support  specificity\n",
      "0           LLE   0.753789  0.808095  0.729309  14.800000     0.419298\n",
      "1            TD   0.644444  0.619298  0.439905   9.000000     0.419298\n",
      "2      accuracy   0.652328  0.652328  0.652328   0.652328     0.419298\n",
      "3     macro avg   0.699117  0.713697  0.584607  23.800000     0.419298\n",
      "4  weighted avg   0.843743  0.652328  0.674398  23.800000     0.419298\n",
      "File: results_2023_8_50_1024_8_5e-05_0.99.csv\n",
      "           data  precision    recall  f1-score    support  specificity\n",
      "0           LLE   0.753789  0.808095  0.729309  14.800000     0.419298\n",
      "1            TD   0.644444  0.619298  0.439905   9.000000     0.419298\n",
      "2      accuracy   0.652328  0.652328  0.652328   0.652328     0.419298\n",
      "3     macro avg   0.699117  0.713697  0.584607  23.800000     0.419298\n",
      "4  weighted avg   0.843743  0.652328  0.674398  23.800000     0.419298\n",
      "File: results_2023_8_50_1024_8_3e-05_0.99.csv\n",
      "           data  precision    recall  f1-score    support  specificity\n",
      "0           LLE   0.748000  0.818095  0.732449  14.800000     0.406798\n",
      "1            TD   0.641667  0.606798  0.428571   9.000000     0.406798\n",
      "2      accuracy   0.655185  0.655185  0.655185   0.655185     0.406798\n",
      "3     macro avg   0.694833  0.712447  0.580510  23.800000     0.406798\n",
      "4  weighted avg   0.839674  0.655185  0.673597  23.800000     0.406798\n",
      "File: results_2023_8_50_512_8_3e-05_0.99.csv\n",
      "           data  precision    recall  f1-score    support  specificity\n",
      "0           LLE   0.745922  0.805714  0.719940  14.800000     0.406798\n",
      "1            TD   0.592157  0.606798  0.406315   9.000000     0.406798\n",
      "2      accuracy   0.643228  0.643228  0.643228   0.643228     0.406798\n",
      "3     macro avg   0.669039  0.706256  0.563127  23.800000     0.406798\n",
      "4  weighted avg   0.830249  0.643228  0.658950  23.800000     0.406798\n",
      "File: results_2023_8_50_512_8_6e-05_0.99.csv\n",
      "           data  precision    recall  f1-score    support  specificity\n",
      "0           LLE   0.738216  0.808571  0.723413  14.800000     0.394298\n",
      "1            TD   0.567262  0.594298  0.392876   9.000000     0.394298\n",
      "2      accuracy   0.646349  0.646349  0.646349   0.646349     0.394298\n",
      "3     macro avg   0.652739  0.701435  0.558144  23.800000     0.394298\n",
      "4  weighted avg   0.812072  0.646349  0.658318  23.800000     0.394298\n"
     ]
    }
   ],
   "source": [
    "import matplotlib.pyplot as plt\n",
    "\n",
    "# Example usage\n",
    "folder_path = '/home/benjaminbarrera-altuna/Desktop/LLE/multimodal/self/joint_text/bike/100'\n",
    "top_recall_files = find_top_recall_csvs(folder_path)\n",
    "for file_name, data in top_recall_files:\n",
    "    print(f\"File: {file_name}\")\n",
    "    print(data)\n",
    "    if file_name == \"results_2023_16_50_512_8_6e-05_0.99.csv\":\n",
    "         \n",
    "        df_filtered = data.iloc[0:2]\n",
    "\n",
    "        # Plotting the bar graph\n",
    "        plt.bar(df_filtered['data'], df_filtered['recall'], width=0.4, color=['blue', 'green'])\n",
    "        plt.xlabel('Data', fontsize=14)\n",
    "        plt.ylabel('Recall', fontsize=14)\n",
    "        plt.title('Recall for LLE and TD', fontsize=16)\n",
    "        plt.xticks(fontsize=12)\n",
    "        plt.yticks(fontsize=12)\n",
    "        plt.show()\n",
    "        data.to_csv(\"test.csv\", index=False)"
   ]
  }
 ],
 "metadata": {
  "kernelspec": {
   "display_name": "LLE",
   "language": "python",
   "name": "python3"
  },
  "language_info": {
   "codemirror_mode": {
    "name": "ipython",
    "version": 3
   },
   "file_extension": ".py",
   "mimetype": "text/x-python",
   "name": "python",
   "nbconvert_exporter": "python",
   "pygments_lexer": "ipython3",
   "version": "3.8.18"
  }
 },
 "nbformat": 4,
 "nbformat_minor": 2
}
